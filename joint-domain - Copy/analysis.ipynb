{
 "cells": [
  {
   "cell_type": "code",
   "execution_count": 51,
   "metadata": {
    "collapsed": true
   },
   "outputs": [],
   "source": [
    "import numpy as np\n",
    "from sklearn.metrics import classification_report\n",
    "import csv\n",
    "from collections import defaultdict\n",
    "from data_loader import LoadDataset\n",
    "import numpy as np\n",
    "import pandas as pd"
   ]
  },
  {
   "cell_type": "code",
   "execution_count": 42,
   "outputs": [],
   "source": [
    "load_dataset = LoadDataset.load_dataset\n",
    "domain_labels = load_dataset(f'data/massive/domain_label_vocab')\n",
    "domain_word2idx = defaultdict(int, {k: v for v, k in enumerate(domain_labels)})\n",
    "domain_idx2word = {v: k for v, k in enumerate(domain_labels)}"
   ],
   "metadata": {
    "collapsed": false
   }
  },
  {
   "cell_type": "code",
   "execution_count": 43,
   "outputs": [
    {
     "data": {
      "text/plain": "0"
     },
     "execution_count": 43,
     "metadata": {},
     "output_type": "execute_result"
    }
   ],
   "source": [
    "domain_word2idx['alarm']"
   ],
   "metadata": {
    "collapsed": false
   }
  },
  {
   "cell_type": "code",
   "execution_count": 44,
   "outputs": [],
   "source": [
    "pred_domain, actual_domain = [], []\n",
    "with open('result/pred_domain', 'r') as f, open('result/actual_domain', 'r') as f1:\n",
    "    pred_domain = [domain_word2idx[i[0]] for i in csv.reader(f) if len(i)]\n",
    "    actual_domain = [domain_word2idx[i[0]] for i in csv.reader(f1) if len(i)]"
   ],
   "metadata": {
    "collapsed": false
   }
  },
  {
   "cell_type": "code",
   "execution_count": 49,
   "outputs": [
    {
     "data": {
      "text/plain": "['alarm',\n 'audio',\n 'iot',\n 'calendar',\n 'play',\n 'general',\n 'datetime',\n 'takeaway',\n 'news',\n 'music',\n 'weather',\n 'qa',\n 'social',\n 'recommendation',\n 'cooking',\n 'transport',\n 'email',\n 'lists']"
     },
     "execution_count": 49,
     "metadata": {},
     "output_type": "execute_result"
    }
   ],
   "source": [
    "list(domain_word2idx.keys())"
   ],
   "metadata": {
    "collapsed": false
   }
  },
  {
   "cell_type": "code",
   "execution_count": 54,
   "outputs": [
    {
     "name": "stdout",
     "output_type": "stream",
     "text": [
      "                precision    recall  f1-score   support\n",
      "\n",
      "         alarm       0.95      0.98      0.96        96\n",
      "         audio       0.97      0.95      0.96        62\n",
      "           iot       0.99      0.97      0.98       220\n",
      "      calendar       0.93      0.96      0.95       401\n",
      "          play       0.95      0.96      0.95       387\n",
      "       general       0.75      0.66      0.70       189\n",
      "      datetime       0.96      0.99      0.98       103\n",
      "      takeaway       0.98      0.91      0.95        57\n",
      "          news       0.90      0.85      0.87       124\n",
      "         music       0.87      0.83      0.85        81\n",
      "       weather       0.96      0.96      0.96       156\n",
      "            qa       0.86      0.89      0.87       287\n",
      "        social       0.90      0.89      0.90       106\n",
      "recommendation       0.81      0.88      0.85        93\n",
      "       cooking       0.90      0.96      0.93        72\n",
      "     transport       0.94      0.95      0.94       124\n",
      "         email       0.95      0.97      0.96       271\n",
      "         lists       0.94      0.89      0.92       142\n",
      "\n",
      "      accuracy                           0.92      2971\n",
      "     macro avg       0.92      0.91      0.91      2971\n",
      "  weighted avg       0.92      0.92      0.92      2971\n",
      "\n"
     ]
    }
   ],
   "source": [
    "print(classification_report(actual_domain, pred_domain, target_names=list(domain_word2idx.keys())))"
   ],
   "metadata": {
    "collapsed": false
   }
  },
  {
   "cell_type": "code",
   "execution_count": 54,
   "outputs": [],
   "source": [],
   "metadata": {
    "collapsed": false
   }
  },
  {
   "cell_type": "code",
   "execution_count": null,
   "outputs": [],
   "source": [],
   "metadata": {
    "collapsed": false
   }
  }
 ],
 "metadata": {
  "kernelspec": {
   "display_name": "Python 3",
   "language": "python",
   "name": "python3"
  },
  "language_info": {
   "codemirror_mode": {
    "name": "ipython",
    "version": 2
   },
   "file_extension": ".py",
   "mimetype": "text/x-python",
   "name": "python",
   "nbconvert_exporter": "python",
   "pygments_lexer": "ipython2",
   "version": "2.7.6"
  }
 },
 "nbformat": 4,
 "nbformat_minor": 0
}
